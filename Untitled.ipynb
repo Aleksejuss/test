{
 "cells": [
  {
   "cell_type": "code",
   "execution_count": 2,
   "id": "7771bf12-0621-4d68-b3cb-7dcfd5bf3961",
   "metadata": {},
   "outputs": [
    {
     "name": "stdout",
     "output_type": "stream",
     "text": [
      "Looping: 1\n",
      "Looping: 2\n",
      "Looping: 3\n",
      "The first element is 1\n"
     ]
    }
   ],
   "source": [
    "def myFunction():\n",
    "  a= [1,2,3]\n",
    "  b = { 'key1':'value1','key2':'value2' }\n",
    "  for i in a:\n",
    "      print(\"Looping:\", i)\n",
    "  if a[0]==1:\n",
    "      print(\"The first element is 1\")\n",
    "myFunction()\n"
   ]
  },
  {
   "cell_type": "code",
   "execution_count": 9,
   "id": "c1733865-70f0-48df-83c0-e8392eb09cc6",
   "metadata": {},
   "outputs": [
    {
     "name": "stdout",
     "output_type": "stream",
     "text": [
      "Looping: 1\n",
      "Looping: 2\n",
      "Looping: 3\n",
      "The first element is 1\n"
     ]
    }
   ],
   "source": [
    "def myFunction():\n",
    "  a= [1,2,3]\n",
    "  b = {   'key1':'value1','key2':'value2'   }\n",
    "  for i in a:\n",
    "      print(\"Looping:\", i)\n",
    "  if a[0]==1:\n",
    "      print(\"The first element is 1\")\n",
    "myFunction()"
   ]
  },
  {
   "cell_type": "code",
   "execution_count": null,
   "id": "acb63efa-ae36-4981-815b-6c2f87151eaa",
   "metadata": {},
   "outputs": [],
   "source": []
  },
  {
   "cell_type": "code",
   "execution_count": 1,
   "id": "bc7ccc12-3142-4548-9cba-c09444f9956d",
   "metadata": {},
   "outputs": [
    {
     "name": "stdout",
     "output_type": "stream",
     "text": [
      "Package                   Version\n",
      "------------------------- --------------\n",
      "anyio                     4.2.0\n",
      "argon2-cffi               21.3.0\n",
      "argon2-cffi-bindings      21.2.0\n",
      "arrow                     1.3.0\n",
      "asttokens                 2.0.5\n",
      "async-lru                 2.0.4\n",
      "attrs                     23.1.0\n",
      "Babel                     2.11.0\n",
      "beautifulsoup4            4.12.3\n",
      "black                     24.8.0\n",
      "bleach                    4.1.0\n",
      "Brotli                    1.0.9\n",
      "certifi                   2024.7.4\n",
      "cffi                      1.16.0\n",
      "charset-normalizer        3.3.2\n",
      "click                     8.1.7\n",
      "colorama                  0.4.6\n",
      "comm                      0.2.1\n",
      "debugpy                   1.6.7\n",
      "decorator                 5.1.1\n",
      "defusedxml                0.7.1\n",
      "executing                 0.8.3\n",
      "fastjsonschema            2.16.2\n",
      "fqdn                      1.5.1\n",
      "idna                      3.7\n",
      "importlib_metadata        8.4.0\n",
      "ipykernel                 6.28.0\n",
      "ipython                   8.25.0\n",
      "isoduration               20.11.0\n",
      "isort                     5.13.2\n",
      "jedi                      0.19.1\n",
      "Jinja2                    3.1.4\n",
      "json5                     0.9.6\n",
      "jsonpointer               3.0.0\n",
      "jsonschema                4.19.2\n",
      "jsonschema-specifications 2023.7.1\n",
      "jupyter_client            8.6.0\n",
      "jupyter_core              5.7.2\n",
      "jupyter-events            0.10.0\n",
      "jupyter-lsp               2.2.0\n",
      "jupyter_server            2.14.1\n",
      "jupyter_server_terminals  0.4.4\n",
      "jupyterlab                4.0.11\n",
      "jupyterlab_code_formatter 3.0.2\n",
      "jupyterlab-pygments       0.1.2\n",
      "jupyterlab_server         2.25.1\n",
      "MarkupSafe                2.1.3\n",
      "matplotlib-inline         0.1.6\n",
      "mistune                   2.0.4\n",
      "mypy-extensions           1.0.0\n",
      "nbclient                  0.8.0\n",
      "nbconvert                 7.10.0\n",
      "nbformat                  5.9.2\n",
      "nest-asyncio              1.6.0\n",
      "notebook_shim             0.2.3\n",
      "overrides                 7.4.0\n",
      "packaging                 24.1\n",
      "pandocfilters             1.5.0\n",
      "parso                     0.8.3\n",
      "pathspec                  0.12.1\n",
      "pip                       24.2\n",
      "platformdirs              3.10.0\n",
      "prometheus-client         0.14.1\n",
      "prompt-toolkit            3.0.43\n",
      "psutil                    5.9.0\n",
      "pure-eval                 0.2.2\n",
      "pycparser                 2.21\n",
      "Pygments                  2.15.1\n",
      "PySocks                   1.7.1\n",
      "python-dateutil           2.9.0.post0\n",
      "python-json-logger        2.0.7\n",
      "pytz                      2024.1\n",
      "pywin32                   305.1\n",
      "pywinpty                  2.0.10\n",
      "PyYAML                    6.0.1\n",
      "pyzmq                     25.1.2\n",
      "referencing               0.30.2\n",
      "requests                  2.32.3\n",
      "rfc3339-validator         0.1.4\n",
      "rfc3986-validator         0.1.1\n",
      "rpds-py                   0.10.6\n",
      "Send2Trash                1.8.2\n",
      "setuptools                72.1.0\n",
      "six                       1.16.0\n",
      "sniffio                   1.3.0\n",
      "soupsieve                 2.5\n",
      "stack-data                0.2.0\n",
      "terminado                 0.17.1\n",
      "tinycss2                  1.2.1\n",
      "tomli                     2.0.1\n",
      "tornado                   6.4.1\n",
      "traitlets                 5.14.3\n",
      "types-python-dateutil     2.9.0.20240821\n",
      "typing_extensions         4.11.0\n",
      "uri-template              1.3.0\n",
      "urllib3                   2.2.2\n",
      "wcwidth                   0.2.5\n",
      "webcolors                 24.8.0\n",
      "webencodings              0.5.1\n",
      "websocket-client          1.8.0\n",
      "wheel                     0.43.0\n",
      "win-inet-pton             1.1.0\n",
      "yapf                      0.40.2\n",
      "zipp                      3.20.1\n",
      "Note: you may need to restart the kernel to use updated packages.\n"
     ]
    }
   ],
   "source": [
    "pip list"
   ]
  },
  {
   "cell_type": "code",
   "execution_count": null,
   "id": "e060be5d-5ef9-4757-9bfd-a866c5d9803e",
   "metadata": {},
   "outputs": [],
   "source": []
  }
 ],
 "metadata": {
  "kernelspec": {
   "display_name": "Python 3 (ipykernel)",
   "language": "python",
   "name": "python3"
  },
  "language_info": {
   "codemirror_mode": {
    "name": "ipython",
    "version": 3
   },
   "file_extension": ".py",
   "mimetype": "text/x-python",
   "name": "python",
   "nbconvert_exporter": "python",
   "pygments_lexer": "ipython3",
   "version": "3.11.9"
  }
 },
 "nbformat": 4,
 "nbformat_minor": 5
}
